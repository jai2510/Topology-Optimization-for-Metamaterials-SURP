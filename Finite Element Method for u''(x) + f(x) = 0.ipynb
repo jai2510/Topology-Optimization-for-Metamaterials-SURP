{
 "cells": [
  {
   "cell_type": "code",
   "execution_count": 78,
   "metadata": {},
   "outputs": [],
   "source": [
    "import numpy as np\n",
    "import matplotlib.pyplot as plt\n",
    "%matplotlib inline"
   ]
  },
  {
   "cell_type": "code",
   "execution_count": 79,
   "metadata": {},
   "outputs": [],
   "source": [
    "def f(x): # function f\n",
    "    return np.sin(x)"
   ]
  },
  {
   "cell_type": "code",
   "execution_count": 80,
   "metadata": {},
   "outputs": [],
   "source": [
    "a = 0 \n",
    "b = 1 # limits of x\n",
    "\n",
    "n = 100 # number of partitions\n",
    "\n",
    "dx = 1/n\n",
    "Xmatrix = np.linspace(0, 1, n)"
   ]
  },
  {
   "cell_type": "markdown",
   "metadata": {},
   "source": [
    "# Boundary conditions on $u$"
   ]
  },
  {
   "cell_type": "code",
   "execution_count": 81,
   "metadata": {},
   "outputs": [],
   "source": [
    "u_a = 0\n",
    "u_b = 0"
   ]
  },
  {
   "cell_type": "markdown",
   "metadata": {},
   "source": [
    "We want to solve for $U$ in $KU=F$"
   ]
  },
  {
   "cell_type": "markdown",
   "metadata": {},
   "source": [
    "# Necessary functions"
   ]
  },
  {
   "cell_type": "markdown",
   "metadata": {},
   "source": [
    "$F_j = \\int_{0}^{1}f(x)N_{j}(x)dx$"
   ]
  },
  {
   "cell_type": "code",
   "execution_count": 82,
   "metadata": {},
   "outputs": [],
   "source": [
    "def init_Fmatrix():  # function for generating matrix F\n",
    "    Fmatrix = np.zeros((n,1))\n",
    "    for j in range(n):\n",
    "        x_j = Xmatrix[j]\n",
    "        Fmatrix[j] = f(x_j)*dx\n",
    "    Fmatrix[0] += u_a/dx\n",
    "    Fmatrix[-1] += u_b/dx\n",
    "    return Fmatrix"
   ]
  },
  {
   "cell_type": "markdown",
   "metadata": {},
   "source": [
    "$K_{ij} = \\int_{0}^{1}N'_{i}(x)N'_{j}(x)dx$"
   ]
  },
  {
   "cell_type": "code",
   "execution_count": 83,
   "metadata": {},
   "outputs": [],
   "source": [
    "def init_Kmatrix():  # function for generating matrix K\n",
    "    Kmatrix = np.zeros((n,n))\n",
    "    for i in range(n):\n",
    "        for j in range(i, n):\n",
    "            if i == j:\n",
    "                Kmatrix[i,j] = 2/dx\n",
    "            \n",
    "            if j - i == 1:\n",
    "                Kmatrix[i,j] = -1/dx\n",
    "                Kmatrix[j,i] = -1/dx\n",
    "    return Kmatrix"
   ]
  },
  {
   "cell_type": "markdown",
   "metadata": {},
   "source": [
    "Matrix K"
   ]
  },
  {
   "cell_type": "markdown",
   "metadata": {},
   "source": [
    "# Solving for U"
   ]
  },
  {
   "cell_type": "code",
   "execution_count": 84,
   "metadata": {},
   "outputs": [
    {
     "data": {
      "text/plain": [
       "[<matplotlib.lines.Line2D at 0x7fef660be190>]"
      ]
     },
     "execution_count": 84,
     "metadata": {},
     "output_type": "execute_result"
    },
    {
     "data": {
      "image/png": "[encoded data removed]",
      "text/plain": [
       "<Figure size 432x288 with 1 Axes>"
      ]
     },
     "metadata": {
      "needs_background": "light"
     },
     "output_type": "display_data"
    }
   ],
   "source": [
    "Fmatrix = init_Fmatrix()\n",
    "Kmatrix = init_Kmatrix()\n",
    "\n",
    "Umatrix = np.linalg.solve(Kmatrix, Fmatrix)\n",
    "\n",
    "plt.plot(Xmatrix, Umatrix, lw=0.5)"
   ]
  },
  {
   "cell_type": "code",
   "execution_count": 85,
   "metadata": {
    "scrolled": true
   },
   "outputs": [
    {
     "data": {
      "text/plain": [
       "array([[0.00158368],\n",
       "       [0.00316737],\n",
       "       [0.00475004],\n",
       "       [0.00633069],\n",
       "       [0.00790831],\n",
       "       [0.0094819 ],\n",
       "       [0.01105043],\n",
       "       [0.01261291],\n",
       "       [0.01416833],\n",
       "       [0.01571567],\n",
       "       [0.01725393],\n",
       "       [0.01878211],\n",
       "       [0.0202992 ],\n",
       "       [0.0218042 ],\n",
       "       [0.02329611],\n",
       "       [0.02477392],\n",
       "       [0.02623664],\n",
       "       [0.02768326],\n",
       "       [0.0291128 ],\n",
       "       [0.03052426],\n",
       "       [0.03191664],\n",
       "       [0.03328896],\n",
       "       [0.03464023],\n",
       "       [0.03596945],\n",
       "       [0.03727565],\n",
       "       [0.03855785],\n",
       "       [0.03981506],\n",
       "       [0.04104631],\n",
       "       [0.04225062],\n",
       "       [0.04342703],\n",
       "       [0.04457456],\n",
       "       [0.04569224],\n",
       "       [0.04677913],\n",
       "       [0.04783425],\n",
       "       [0.04885665],\n",
       "       [0.04984538],\n",
       "       [0.05079949],\n",
       "       [0.05171803],\n",
       "       [0.05260006],\n",
       "       [0.05344464],\n",
       "       [0.05425084],\n",
       "       [0.05501773],\n",
       "       [0.05574437],\n",
       "       [0.05642985],\n",
       "       [0.05707325],\n",
       "       [0.05767366],\n",
       "       [0.05823016],\n",
       "       [0.05874185],\n",
       "       [0.05920783],\n",
       "       [0.0596272 ],\n",
       "       [0.05999907],\n",
       "       [0.06032255],\n",
       "       [0.06059677],\n",
       "       [0.06082085],\n",
       "       [0.06099391],\n",
       "       [0.06111509],\n",
       "       [0.06118353],\n",
       "       [0.06119838],\n",
       "       [0.06115877],\n",
       "       [0.06106388],\n",
       "       [0.06091285],\n",
       "       [0.06070486],\n",
       "       [0.06043908],\n",
       "       [0.06011469],\n",
       "       [0.05973087],\n",
       "       [0.05928681],\n",
       "       [0.05878171],\n",
       "       [0.05821478],\n",
       "       [0.05758522],\n",
       "       [0.05689225],\n",
       "       [0.05613508],\n",
       "       [0.05531296],\n",
       "       [0.05442511],\n",
       "       [0.05347078],\n",
       "       [0.05244921],\n",
       "       [0.05135966],\n",
       "       [0.0502014 ],\n",
       "       [0.04897369],\n",
       "       [0.04767581],\n",
       "       [0.04630705],\n",
       "       [0.04486669],\n",
       "       [0.04335403],\n",
       "       [0.04176839],\n",
       "       [0.04010906],\n",
       "       [0.03837538],\n",
       "       [0.03656668],\n",
       "       [0.03468228],\n",
       "       [0.03272153],\n",
       "       [0.03068379],\n",
       "       [0.0285684 ],\n",
       "       [0.02637475],\n",
       "       [0.02410221],\n",
       "       [0.02175015],\n",
       "       [0.01931797],\n",
       "       [0.01680508],\n",
       "       [0.01421087],\n",
       "       [0.01153476],\n",
       "       [0.00877619],\n",
       "       [0.00593457],\n",
       "       [0.00300936]])"
      ]
     },
     "execution_count": 85,
     "metadata": {},
     "output_type": "execute_result"
    }
   ],
   "source": [
    "Umatrix"
   ]
  },
  {
   "cell_type": "code",
   "execution_count": null,
   "metadata": {},
   "outputs": [],
   "source": []
  }
 ],
 "metadata": {
  "kernelspec": {
   "display_name": "Python 3",
   "language": "python",
   "name": "python3"
  },
  "language_info": {
   "codemirror_mode": {
    "name": "ipython",
    "version": 3
   },
   "file_extension": ".py",
   "mimetype": "text/x-python",
   "name": "python",
   "nbconvert_exporter": "python",
   "pygments_lexer": "ipython3",
   "version": "3.7.4"
  }
 },
 "nbformat": 4,
 "nbformat_minor": 2
}
